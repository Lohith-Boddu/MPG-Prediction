{
 "cells": [
  {
   "cell_type": "markdown",
   "metadata": {},
   "source": [
    "## Problem Statement :\n",
    "**Predicting MPG using KNN, Linear Regression and Decision Tree Model.**"
   ]
  },
  {
   "cell_type": "code",
   "execution_count": 10,
   "metadata": {},
   "outputs": [],
   "source": [
    "# importing required libraries\n",
    "import numpy as np\n",
    "import pandas as pd\n",
    "from sklearn.model_selection import train_test_split\n",
    "from sklearn.model_selection import cross_val_score\n",
    "import matplotlib.pyplot as plt\n",
    "from sklearn.model_selection import GridSearchCV\n",
    "from sklearn.tree import DecisionTreeRegressor  "
   ]
  },
  {
   "cell_type": "code",
   "execution_count": 2,
   "metadata": {},
   "outputs": [],
   "source": [
    "# reading cars data\n",
    "cars = pd.read_csv(\"cars.csv\")"
   ]
  },
  {
   "cell_type": "code",
   "execution_count": 3,
   "metadata": {},
   "outputs": [],
   "source": [
    "# assigning predictors and value to be predicted to variables\n",
    "X = cars[[\"Cylinders\",\"Weight\",\"Horsepower\"]]\n",
    "y = cars['MPG']"
   ]
  },
  {
   "cell_type": "code",
   "execution_count": 4,
   "metadata": {},
   "outputs": [],
   "source": [
    "# splitting the model as test data and train data.\n",
    "X_train,X_test,y_train,y_test = train_test_split(X,y,test_size = 0.3,random_state = 100)"
   ]
  },
  {
   "cell_type": "markdown",
   "metadata": {},
   "source": [
    "### 1.Finding k value using CV"
   ]
  },
  {
   "cell_type": "code",
   "execution_count": 5,
   "metadata": {},
   "outputs": [
    {
     "data": {
      "image/png": "[encoded data removed]",
      "text/plain": [
       "<Figure size 432x288 with 1 Axes>"
      ]
     },
     "metadata": {
      "needs_background": "light"
     },
     "output_type": "display_data"
    },
    {
     "name": "stdout",
     "output_type": "stream",
     "text": [
      "best K value : 41\n"
     ]
    }
   ],
   "source": [
    "from sklearn.neighbors import KNeighborsRegressor\n",
    "# choosing cross validation to finalize K \n",
    "neighbours = list(range(1,100))\n",
    "\n",
    "# list to store all the cv scores for every k value\n",
    "cv_scores = []\n",
    "\n",
    "# performing 9 fold cross validation\n",
    "for k in neighbours:\n",
    "    knn = KNeighborsRegressor(n_neighbors=k)\n",
    "    scores = cross_val_score(knn,X_train,y_train, cv = 9,scoring= 'r2')\n",
    "    cv_scores.append(scores.mean())\n",
    "\n",
    "# finding the error from accuracy\n",
    "Error = [1 - x for x in cv_scores]\n",
    "\n",
    "# plotting error with the respective KNN\n",
    "plt.plot(neighbours,Error)\n",
    "plt.xlabel(\"Number of neighbours k\")\n",
    "plt.ylabel(\"Misclassification Error\")\n",
    "plt.show()\n",
    "# Finding min k value.\n",
    "\n",
    "# finding the mininum error value and finding its respective index so that it is the k value.\n",
    "mini = 11111111111111111111111111111111111111111111111111111111111111111111111111111111111111\n",
    "for i in Error:   # iterating for every value in Error.\n",
    "    if i < mini:  # comparing whether the value less than the value in min or not. \n",
    "        mini = i  # If the value is less than mini assigning the value to mini.\n",
    "k = Error.index(mini)  # finding the inde of the minimum value generated from the previous for loop.\n",
    "print(\"best K value :\",k)"
   ]
  },
  {
   "cell_type": "markdown",
   "metadata": {},
   "source": [
    "**We have determined the error for every value of k from 1 to 100 and stored in a list. Then identified the least value of error and the resepctive k value. From the above we can see that least k value is 41**"
   ]
  },
  {
   "cell_type": "code",
   "execution_count": null,
   "metadata": {},
   "outputs": [],
   "source": []
  },
  {
   "cell_type": "markdown",
   "metadata": {},
   "source": [
    "### KNN"
   ]
  },
  {
   "cell_type": "code",
   "execution_count": 6,
   "metadata": {},
   "outputs": [
    {
     "name": "stdout",
     "output_type": "stream",
     "text": [
      "CV score for 41NN model : -30.243975961120324\n"
     ]
    }
   ],
   "source": [
    "# Loading library\n",
    "from sklearn.neighbors import KNeighborsRegressor   # importing KNN regressor using sklearn\n",
    "     \n",
    "knn = KNeighborsRegressor(n_neighbors=41)           # assigning KNN model to a variable\n",
    "score1 = cross_val_score(knn,X_train,y_train, cv = 15,scoring= 'neg_mean_squared_error') # finding cv scores for all the folds using cross validation\n",
    "print(\"CV score for 41NN model :\",score1.mean())                                         # finding mean of folds."
   ]
  },
  {
   "cell_type": "markdown",
   "metadata": {},
   "source": [
    "**Performed KNN on the model with the k value which is determined in the previous step. Used scoring parameter as negative mean squared error to determine the CV score of 15 folds. Compare this CV score with the other two models(Higher the value, best is the model)**"
   ]
  },
  {
   "cell_type": "code",
   "execution_count": null,
   "metadata": {},
   "outputs": [],
   "source": []
  },
  {
   "cell_type": "markdown",
   "metadata": {},
   "source": [
    "### 2.Linear Regression"
   ]
  },
  {
   "cell_type": "code",
   "execution_count": 7,
   "metadata": {},
   "outputs": [
    {
     "name": "stdout",
     "output_type": "stream",
     "text": [
      "CV score for Linear Regression model : -30.794303129051595\n"
     ]
    }
   ],
   "source": [
    "from sklearn.linear_model import LinearRegression            # importing linear regression using sklearn\n",
    "regressor = LinearRegression(fit_intercept=True)             # assigning linear regression model to a variable by including intercept\n",
    "score2 = cross_val_score(regressor,X_train,y_train, cv = 15,scoring= 'neg_mean_squared_error') # finding cv scores for all the folds using cross validation\n",
    "print(\"CV score for Linear Regression model :\",score2.mean())                                  # finding mean of folds."
   ]
  },
  {
   "cell_type": "markdown",
   "metadata": {},
   "source": [
    "**Performed Linear Regression on the model using sklearn. Used scoring parameter as negative mean squared error to determine the CV score of 15 folds. Compare this CV score with the other two models(Higher the value, best is the model)**"
   ]
  },
  {
   "cell_type": "code",
   "execution_count": null,
   "metadata": {},
   "outputs": [],
   "source": []
  },
  {
   "cell_type": "markdown",
   "metadata": {},
   "source": [
    "### 3.Decision Tree"
   ]
  },
  {
   "cell_type": "code",
   "execution_count": null,
   "metadata": {},
   "outputs": [],
   "source": []
  },
  {
   "cell_type": "code",
   "execution_count": 12,
   "metadata": {},
   "outputs": [
    {
     "data": {
      "text/plain": [
       "DecisionTreeRegressor(max_depth=4, min_samples_leaf=6)"
      ]
     },
     "execution_count": 12,
     "metadata": {},
     "output_type": "execute_result"
    }
   ],
   "source": [
    "clf = DecisionTreeRegressor()                                               # assigning decision regressor object\n",
    "parameters={'max_depth' : range(2,30,2),'min_samples_leaf': range(2,30,2)}  # parameters to be tuned\n",
    "grid = GridSearchCV(clf,param_grid=parameters,cv =10,n_jobs=-1)             # fitting grid searchCV to find the best paramters\n",
    "grid.fit(X_train,y_train)                                                   # fitting the gridserach CV \n",
    "grid.best_estimator_                                                        # printing the tuned hyper parameters"
   ]
  },
  {
   "cell_type": "code",
   "execution_count": 14,
   "metadata": {},
   "outputs": [
    {
     "name": "stdout",
     "output_type": "stream",
     "text": [
      "CV score for Decision Tree model : -31.912356190044402\n"
     ]
    }
   ],
   "source": [
    "from sklearn.tree import DecisionTreeRegressor                   # importing regressor decision tree using sklearn\n",
    "model = DecisionTreeRegressor(max_depth=4,min_samples_leaf=6)    # assigning decision tree model to a variable using the tuned hyper paameters\n",
    "score3 = cross_val_score(model,X_train,y_train, cv = 15,scoring= 'neg_mean_squared_error')  # finding cv scores for all the folds using cross validation\n",
    "print(\"CV score for Decision Tree model :\",score3.mean())                                   # finding mean of folds."
   ]
  },
  {
   "cell_type": "markdown",
   "metadata": {},
   "source": [
    "**Performed Decision Tree on the model using skelarn. Used scoring parameter as negative mean squared error to determine the CV score of 15 folds. Compare this CV score with the other two models(Higher the value, best is the model)**"
   ]
  },
  {
   "cell_type": "code",
   "execution_count": null,
   "metadata": {},
   "outputs": [],
   "source": []
  },
  {
   "cell_type": "markdown",
   "metadata": {},
   "source": [
    "### 4. Choosing best competing model for testing\n",
    "\n",
    "**Now compare all the CV scores:**\n",
    "\n",
    "***41NN model : -30.243975961120324***\n",
    "\n",
    "***Linear Regression model : -30.794303129051595***\n",
    "  \n",
    "***Decision Tree model : -31.912356190044402***\n",
    "  \n",
    "**We can clearly see that 41NN model has the highest value which is the best CV score. So KNN should be preferred here.** "
   ]
  },
  {
   "cell_type": "code",
   "execution_count": null,
   "metadata": {},
   "outputs": [],
   "source": []
  },
  {
   "cell_type": "markdown",
   "metadata": {},
   "source": [
    "### 5. Testing the models and reporting best performing model."
   ]
  },
  {
   "cell_type": "code",
   "execution_count": 15,
   "metadata": {},
   "outputs": [
    {
     "name": "stdout",
     "output_type": "stream",
     "text": [
      "MSE for 41NN : 15.866611648023719\n"
     ]
    }
   ],
   "source": [
    "from sklearn.neighbors import KNeighborsRegressor   # importing KNN regressor using sklearn\n",
    "from sklearn.metrics import mean_squared_error      # importing mean_squared error using sklearn\n",
    "      \n",
    "knn_test = KNeighborsRegressor(n_neighbors=41)      # assigning KNN model to a variable\n",
    "knn_test.fit(X_train,y_train)                       # fitting the model.    \n",
    "y_pred = knn_test.predict(X_test)                   # finding the predicted values.\n",
    "MSE_1 = (np.transpose(y_test-y_pred) @ (y_test - y_pred))/len(y_pred)   # finding mean squared error value for the model.\n",
    "print(\"MSE for 41NN :\",MSE_1)\n",
    "# or\n",
    "# mean_squared_error(y_test, y_pred)"
   ]
  },
  {
   "cell_type": "code",
   "execution_count": 16,
   "metadata": {},
   "outputs": [
    {
     "name": "stdout",
     "output_type": "stream",
     "text": [
      "MSE for Linear Regression : 17.115037508636515\n"
     ]
    }
   ],
   "source": [
    "from sklearn.linear_model import LinearRegression            # importing linear regression using sklearn\n",
    "regressor = LinearRegression(fit_intercept=True)             # assigning linear regression model to a variable\n",
    "regressor.fit(X_train,y_train)                               # fitting the model.\n",
    "y_pred = regressor.predict(X_test)                           # finding the predicted values.\n",
    "MSE_2 = (np.transpose(y_test-y_pred) @ (y_test - y_pred))/len(y_pred)  # finding mean squared error value for the model.\n",
    "print(\"MSE for Linear Regression :\",MSE_2)\n",
    "# or\n",
    "# mean_squared_error(y_test, y_pred)"
   ]
  },
  {
   "cell_type": "code",
   "execution_count": 17,
   "metadata": {},
   "outputs": [
    {
     "name": "stdout",
     "output_type": "stream",
     "text": [
      "MSE for Decision Tree : 16.089505475425973\n"
     ]
    }
   ],
   "source": [
    "from sklearn.tree import DecisionTreeRegressor                   # importing regressor decision tree using sklearn\n",
    "model = DecisionTreeRegressor(max_depth=4,min_samples_leaf=6)    # assigning decision tree model to a variable\n",
    "model.fit(X_train,y_train)                                       # fitting the model.\n",
    "y_pred = model.predict(X_test)                                   # finding the predicted values.\n",
    "MSE_3 = (np.transpose(y_test-y_pred) @ (y_test - y_pred))/len(y_pred)   # finding mean squared error value for the model.\n",
    "print(\"MSE for Decision Tree :\",MSE_3)\n",
    "# or\n",
    "# mean_squared_error(y_test, y_pred)"
   ]
  },
  {
   "cell_type": "markdown",
   "metadata": {},
   "source": [
    "**From testing the models we can see that MSE of 41NN model is the lowest value. So 41NN is the best performing the model in this case.**"
   ]
  },
  {
   "cell_type": "code",
   "execution_count": null,
   "metadata": {},
   "outputs": [],
   "source": []
  },
  {
   "cell_type": "markdown",
   "metadata": {},
   "source": [
    "## Report\n",
    "\n",
    "- Initially we have determined the CV scores for all the k values and determined the errors for all the values.\n",
    "- Then we have finalized the k value by finding out the minimum error value and respective k value.\n",
    "- With the determined k value, CV score by using negative mean squared error is calculated.\n",
    "- For Linear Regression, CV score by using negative mean squared error is calculated.\n",
    "- For Decision Tree, CV score by using negative mean squared error is calculated.\n",
    "- After comparing all the CV scores 41NN gave the best value.\n",
    "- Fitted 41NN model and tested the model with X_test and predicted y_pred. MSE is determined by using y_pred and y_test.\n",
    "- Now for testing purpose tried to test the other models as well.\n",
    "- Fitted Lienar Regression model and tested the model with X_test and predicted y_pred. MSE is determined by using y_pred and y_test.\n",
    "- Fitted Decision Tree model and tested the model with X_test and predicted y_pred. MSE is determined by using y_pred and y_test.\n",
    "- MSE for **41NN** gave the **best MSE value**, so it is finalized and reported as **best model.**"
   ]
  },
  {
   "cell_type": "code",
   "execution_count": null,
   "metadata": {},
   "outputs": [],
   "source": []
  }
 ],
 "metadata": {
  "kernelspec": {
   "display_name": "Python 3",
   "language": "python",
   "name": "python3"
  },
  "language_info": {
   "codemirror_mode": {
    "name": "ipython",
    "version": 3
   },
   "file_extension": ".py",
   "mimetype": "text/x-python",
   "name": "python",
   "nbconvert_exporter": "python",
   "pygments_lexer": "ipython3",
   "version": "3.8.5"
  }
 },
 "nbformat": 4,
 "nbformat_minor": 4
}
